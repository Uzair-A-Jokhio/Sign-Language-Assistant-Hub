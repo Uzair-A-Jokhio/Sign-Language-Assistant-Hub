{
 "cells": [
  {
   "cell_type": "code",
   "execution_count": 3,
   "metadata": {},
   "outputs": [],
   "source": [
    "import tensorflow as tf\n",
    "import pandas as  pd\n",
    "import os\n",
    "import matplotlib.pyplot as plt\n",
    "from tensorflow.keras.preprocessing.image import ImageDataGenerator"
   ]
  },
  {
   "cell_type": "code",
   "execution_count": 4,
   "metadata": {},
   "outputs": [],
   "source": [
    "path = 'Image'"
   ]
  },
  {
   "cell_type": "code",
   "execution_count": 5,
   "metadata": {},
   "outputs": [],
   "source": [
    "datagen = ImageDataGenerator(rescale=1/255,\n",
    "                             validation_split = 0.2,\n",
    "                             width_shift_range=0.2,\n",
    "                             height_shift_range=0.2,\n",
    "                             shear_range=0.2,\n",
    "                             zoom_range=0.2,\n",
    "                             )"
   ]
  },
  {
   "cell_type": "code",
   "execution_count": 6,
   "metadata": {},
   "outputs": [
    {
     "name": "stdout",
     "output_type": "stream",
     "text": [
      "Found 3008 images belonging to 26 classes.\n"
     ]
    },
    {
     "data": {
      "text/plain": [
       "(150, 150, 3)"
      ]
     },
     "execution_count": 6,
     "metadata": {},
     "output_type": "execute_result"
    }
   ],
   "source": [
    "train_generator = datagen.flow_from_directory(path,\n",
    "                                              target_size=(150,150),\n",
    "                                              batch_size = 32,\n",
    "                                              class_mode = 'categorical',\n",
    "                                              subset = 'training'\n",
    "                                              )\n",
    "\n",
    "train_generator.image_shape"
   ]
  },
  {
   "cell_type": "code",
   "execution_count": 7,
   "metadata": {},
   "outputs": [
    {
     "name": "stdout",
     "output_type": "stream",
     "text": [
      "Found 738 images belonging to 26 classes.\n"
     ]
    }
   ],
   "source": [
    "validation_generator = datagen.flow_from_directory(path,\n",
    "                                                   target_size=(150,150),\n",
    "                                                   batch_size = 20,\n",
    "                                                   class_mode = \"categorical\",\n",
    "                                                   subset=\"validation\")"
   ]
  },
  {
   "cell_type": "code",
   "execution_count": 8,
   "metadata": {},
   "outputs": [],
   "source": [
    "# Import the inception model\n",
    "from tensorflow.keras.applications.inception_v3 import InceptionV3\n",
    "\n",
    "# Created an instance of the inception model from the local pre-trained weights\n",
    "local_weights_file = 'tmp/inception_v3_weights_tf_dim_ordering_tf_kernels_notop.h5'"
   ]
  },
  {
   "cell_type": "code",
   "execution_count": 9,
   "metadata": {},
   "outputs": [],
   "source": [
    "def create_pre_trained_model(local_weights_file):\n",
    "  \"\"\"\n",
    "  Initializes an InceptionV3 model.\n",
    "\n",
    "  Args:\n",
    "    local_weights_file (string): path pointing to a pretrained weights H5 file\n",
    "\n",
    "  Returns:\n",
    "    pre_trained_model: the initialized InceptionV3 model\n",
    "  \"\"\"\n",
    "  \n",
    "  pre_trained_model = InceptionV3(input_shape = (150, 150, 3),\n",
    "                                  include_top = False,\n",
    "                                  weights = None)\n",
    "\n",
    "  pre_trained_model.load_weights(local_weights_file)\n",
    "\n",
    "  # Make all the layers in the pre-trained model non-trainable\n",
    "  for layer in pre_trained_model.layers:\n",
    "    layer.trainable = False\n",
    "\n",
    "  \n",
    "\n",
    "  return pre_trained_model"
   ]
  },
  {
   "cell_type": "code",
   "execution_count": 10,
   "metadata": {},
   "outputs": [
    {
     "data": {
      "text/plain": [
       "<keras.engine.functional.Functional at 0x139ae1cd000>"
      ]
     },
     "execution_count": 10,
     "metadata": {},
     "output_type": "execute_result"
    }
   ],
   "source": [
    "pre_trained_model = create_pre_trained_model(local_weights_file)\n",
    "\n",
    "# Print the model summary\n",
    "pre_trained_model"
   ]
  },
  {
   "cell_type": "code",
   "execution_count": 11,
   "metadata": {},
   "outputs": [
    {
     "name": "stdout",
     "output_type": "stream",
     "text": [
      "There are 21,802,784 total parameters in this model.\n",
      "There are 0 trainable parameters in this model.\n"
     ]
    }
   ],
   "source": [
    "total_params = pre_trained_model.count_params()\n",
    "num_trainable_params = sum([w.shape.num_elements() for w in pre_trained_model.trainable_weights])\n",
    "\n",
    "print(f\"There are {total_params:,} total parameters in this model.\")\n",
    "print(f\"There are {num_trainable_params:,} trainable parameters in this model.\")"
   ]
  },
  {
   "cell_type": "code",
   "execution_count": 12,
   "metadata": {},
   "outputs": [],
   "source": [
    "# Define a Callback class that stops training once accuracy reaches 99.9%\n",
    "\n",
    "class myCallback(tf.keras.callbacks.Callback):\n",
    "  def on_epoch_end(self, epoch, logs={}):\n",
    "    if(logs.get('accuracy')>0.95):\n",
    "      print(\"\\nReached 95% accuracy so cancelling training!\")\n",
    "      self.model.stop_training = True"
   ]
  },
  {
   "cell_type": "code",
   "execution_count": 13,
   "metadata": {},
   "outputs": [],
   "source": [
    "def output_of_last_layer(pre_trained_model):\n",
    "  \"\"\"\n",
    "  Gets the last layer output of a model\n",
    "\n",
    "  Args:\n",
    "    pre_trained_model (tf.keras Model): model to get the last layer output from\n",
    "\n",
    "  Returns:\n",
    "    last_output: output of the model's last layer\n",
    "  \"\"\"\n",
    "  \n",
    "  last_desired_layer = pre_trained_model.get_layer('mixed7')\n",
    "  print('last layer output shape: ', last_desired_layer.output_shape)\n",
    "  last_output = last_desired_layer.output\n",
    "  print('last layer output: ', last_output)\n",
    "  \n",
    "\n",
    "  return last_output"
   ]
  },
  {
   "cell_type": "code",
   "execution_count": 14,
   "metadata": {},
   "outputs": [
    {
     "name": "stdout",
     "output_type": "stream",
     "text": [
      "last layer output shape:  (None, 7, 7, 768)\n",
      "last layer output:  KerasTensor(type_spec=TensorSpec(shape=(None, 7, 7, 768), dtype=tf.float32, name=None), name='mixed7/concat:0', description=\"created by layer 'mixed7'\")\n"
     ]
    }
   ],
   "source": [
    "last_output = output_of_last_layer(pre_trained_model)"
   ]
  },
  {
   "cell_type": "code",
   "execution_count": 15,
   "metadata": {},
   "outputs": [
    {
     "name": "stdout",
     "output_type": "stream",
     "text": [
      "The pretrained model has type: <class 'keras.engine.functional.Functional'>\n"
     ]
    }
   ],
   "source": [
    "print(f\"The pretrained model has type: {type(pre_trained_model)}\")"
   ]
  },
  {
   "cell_type": "code",
   "execution_count": 16,
   "metadata": {},
   "outputs": [],
   "source": [
    "from tensorflow.keras.models import Model\n",
    "\n",
    "def create_final_model(pre_trained_model, last_output):\n",
    "  \"\"\"\n",
    "  Appends a custom model to a pre-trained model\n",
    "\n",
    "  Args:\n",
    "    pre_trained_model (tf.keras Model): model that will accept the train/test inputs\n",
    "    last_output (tensor): last layer output of the pre-trained model\n",
    "\n",
    "  Returns:\n",
    "    model: the combined model\n",
    "  \"\"\"\n",
    "  # Flatten the output layer to 1 dimension\n",
    "  x = tf.keras.layers.Flatten()(last_output)\n",
    "  \n",
    "\n",
    "  # Add a fully connected layer with 1024 hidden units and ReLU activation\n",
    "  x = tf.keras.layers.Dense(1024, activation='relu')(x)\n",
    "  # Add a dropout rate of 0.2\n",
    "  x = tf.keras.layers.Dropout(.2)(x)\n",
    "  # Add a final sigmoid layer for classification\n",
    "  x = tf.keras.layers.Dense(26, activation='softmax')(x)\n",
    "\n",
    "  # Create the complete model by using the Model class\n",
    "  model = Model(inputs=pre_trained_model.input, outputs=x)\n",
    "\n",
    "  model.compile(optimizer = 'Adam',\n",
    "                loss = 'categorical_crossentropy',\n",
    "                metrics = ['accuracy'])\n",
    "\n",
    "\n",
    "  return model"
   ]
  },
  {
   "cell_type": "code",
   "execution_count": 17,
   "metadata": {},
   "outputs": [
    {
     "name": "stdout",
     "output_type": "stream",
     "text": [
      "There are 47,538,106 total parameters in this model.\n",
      "There are 38,562,842 trainable parameters in this model.\n"
     ]
    }
   ],
   "source": [
    "model = create_final_model(pre_trained_model, last_output)\n",
    "\n",
    "# Inspect parameters\n",
    "total_params = model.count_params()\n",
    "num_trainable_params = sum([w.shape.num_elements() for w in model.trainable_weights])\n",
    "\n",
    "print(f\"There are {total_params:,} total parameters in this model.\")\n",
    "print(f\"There are {num_trainable_params:,} trainable parameters in this model.\")"
   ]
  },
  {
   "cell_type": "code",
   "execution_count": 43,
   "metadata": {},
   "outputs": [
    {
     "name": "stdout",
     "output_type": "stream",
     "text": [
      "Epoch 1/10\n",
      "95/95 [==============================] - 98s 1s/step - loss: 0.1119 - accuracy: 0.9661 - val_loss: 0.0930 - val_accuracy: 0.9702\n",
      "Epoch 2/10\n",
      "95/95 [==============================] - 102s 1s/step - loss: 0.0568 - accuracy: 0.9841 - val_loss: 0.1672 - val_accuracy: 0.9621\n",
      "Epoch 3/10\n",
      "95/95 [==============================] - 96s 1s/step - loss: 0.0595 - accuracy: 0.9797 - val_loss: 0.2544 - val_accuracy: 0.9405\n",
      "Epoch 4/10\n",
      "95/95 [==============================] - 95s 995ms/step - loss: 0.0771 - accuracy: 0.9751 - val_loss: 0.1034 - val_accuracy: 0.9689\n",
      "Epoch 5/10\n",
      "95/95 [==============================] - 104s 1s/step - loss: 0.0567 - accuracy: 0.9834 - val_loss: 0.1073 - val_accuracy: 0.9811\n",
      "Epoch 6/10\n",
      "95/95 [==============================] - 94s 988ms/step - loss: 0.0674 - accuracy: 0.9794 - val_loss: 0.2700 - val_accuracy: 0.9391\n",
      "Epoch 7/10\n",
      "95/95 [==============================] - 91s 954ms/step - loss: 0.0682 - accuracy: 0.9821 - val_loss: 0.1644 - val_accuracy: 0.9608\n",
      "Epoch 8/10\n",
      "95/95 [==============================] - 92s 972ms/step - loss: 0.0855 - accuracy: 0.9771 - val_loss: 0.1769 - val_accuracy: 0.9621\n",
      "Epoch 9/10\n",
      "95/95 [==============================] - 93s 983ms/step - loss: 0.0932 - accuracy: 0.9724 - val_loss: 0.1759 - val_accuracy: 0.9675\n",
      "Epoch 10/10\n",
      "95/95 [==============================] - 99s 1s/step - loss: 0.0472 - accuracy: 0.9857 - val_loss: 0.2445 - val_accuracy: 0.9567\n"
     ]
    }
   ],
   "source": [
    "callbacks = myCallback()\n",
    "\n",
    "history = model.fit(train_generator,\n",
    "                    validation_data = validation_generator,\n",
    "                    epochs = 10\n",
    "                    # callbacks=callbacks\n",
    ")"
   ]
  },
  {
   "cell_type": "code",
   "execution_count": 44,
   "metadata": {},
   "outputs": [
    {
     "data": {
      "image/png": "[encoded data removed]",
      "text/plain": [
       "<Figure size 640x480 with 1 Axes>"
      ]
     },
     "metadata": {},
     "output_type": "display_data"
    },
    {
     "name": "stdout",
     "output_type": "stream",
     "text": [
      "\n"
     ]
    },
    {
     "data": {
      "image/png": "[encoded data removed]",
      "text/plain": [
       "<Figure size 640x480 with 1 Axes>"
      ]
     },
     "metadata": {},
     "output_type": "display_data"
    }
   ],
   "source": [
    "# Retrieve a list of list results on training and test data\n",
    "# sets for each training epoch\n",
    "#-----------------------------------------------------------\n",
    "acc=history.history['accuracy']\n",
    "val_acc=history.history['val_accuracy']\n",
    "loss=history.history['loss']\n",
    "val_loss=history.history['val_loss']\n",
    "\n",
    "epochs=range(len(acc)) # Get number of epochs\n",
    "\n",
    "#------------------------------------------------\n",
    "# Plot training and validation accuracy per epoch\n",
    "#------------------------------------------------\n",
    "plt.plot(epochs, acc, 'r', \"Training Accuracy\")\n",
    "plt.plot(epochs, val_acc, 'b', \"Validation Accuracy\")\n",
    "plt.title('Training and validation accuracy')\n",
    "plt.show()\n",
    "print(\"\")\n",
    "\n",
    "#------------------------------------------------\n",
    "# Plot training and validation loss per epoch\n",
    "#------------------------------------------------\n",
    "plt.plot(epochs, loss, 'r', \"Training Loss\")\n",
    "plt.plot(epochs, val_loss, 'b', \"Validation Loss\")\n",
    "plt.show()"
   ]
  },
  {
   "cell_type": "code",
   "execution_count": null,
   "metadata": {},
   "outputs": [],
   "source": []
  },
  {
   "cell_type": "code",
   "execution_count": 25,
   "metadata": {},
   "outputs": [],
   "source": [
    "from tensorflow.keras.models import save_model  \n",
    "\n",
    "model.save('4th_Sign_model.h5')"
   ]
  },
  {
   "cell_type": "code",
   "execution_count": 18,
   "metadata": {},
   "outputs": [
    {
     "name": "stdout",
     "output_type": "stream",
     "text": [
      "Epoch 1/10\n",
      "94/94 [==============================] - 102s 1s/step - loss: 1.3495 - accuracy: 0.7410 - val_loss: 0.2679 - val_accuracy: 0.9146\n",
      "Epoch 2/10\n",
      "94/94 [==============================] - ETA: 0s - loss: 0.1452 - accuracy: 0.9588\n",
      "Reached 95% accuracy so cancelling training!\n",
      "94/94 [==============================] - 93s 988ms/step - loss: 0.1452 - accuracy: 0.9588 - val_loss: 0.2177 - val_accuracy: 0.9377\n"
     ]
    }
   ],
   "source": [
    "callbacks = myCallback()\n",
    "\n",
    "history_2 = model.fit(train_generator,\n",
    "                    validation_data = validation_generator,\n",
    "                    epochs = 10,\n",
    "                    callbacks=callbacks\n",
    ")"
   ]
  },
  {
   "cell_type": "code",
   "execution_count": 19,
   "metadata": {},
   "outputs": [],
   "source": [
    "from tensorflow.keras.models import save_model  \n",
    "\n",
    "model.save('5th_Sign_model.h5')"
   ]
  },
  {
   "cell_type": "code",
   "execution_count": null,
   "metadata": {},
   "outputs": [],
   "source": []
  }
 ],
 "metadata": {
  "kernelspec": {
   "display_name": "Python 3",
   "language": "python",
   "name": "python3"
  },
  "language_info": {
   "codemirror_mode": {
    "name": "ipython",
    "version": 3
   },
   "file_extension": ".py",
   "mimetype": "text/x-python",
   "name": "python",
   "nbconvert_exporter": "python",
   "pygments_lexer": "ipython3",
   "version": "3.10.6"
  }
 },
 "nbformat": 4,
 "nbformat_minor": 2
}
